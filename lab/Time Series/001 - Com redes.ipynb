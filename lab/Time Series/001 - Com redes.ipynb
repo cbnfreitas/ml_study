{
 "cells": [
  {
   "cell_type": "code",
   "execution_count": 2,
   "metadata": {},
   "outputs": [
    {
     "name": "stdout",
     "output_type": "stream",
     "text": [
      "Lasso (L1) Coefficients: [16.62645575 54.08963961  5.04478396 63.5791221  93.43085011 70.52348981\n",
      " 86.95875828 10.22365701  3.05103997 70.74379784]\n"
     ]
    }
   ],
   "source": [
    "from sklearn.linear_model import Lasso, Ridge, ElasticNet\n",
    "from sklearn.model_selection import train_test_split\n",
    "from sklearn.datasets import make_regression\n",
    "\n",
    "# Gerando dados sintéticos\n",
    "X, y = make_regression(n_samples=100, n_features=10, noise=0.1, random_state=42)\n",
    "\n",
    "# Dividindo os dados em treino e teste\n",
    "X_train, X_test, y_train, y_test = train_test_split(X, y, test_size=0.3, random_state=42)\n",
    "\n",
    "# Aplicando Lasso (L1)\n",
    "lasso = Lasso(alpha=0.1)\n",
    "lasso.fit(X_train, y_train)\n",
    "print(\"Lasso (L1) Coefficients:\", lasso.coef_)\n"
   ]
  },
  {
   "cell_type": "code",
   "execution_count": 3,
   "metadata": {},
   "outputs": [
    {
     "name": "stdout",
     "output_type": "stream",
     "text": [
      "Ridge (L2) Coefficients: [16.75718978 54.0697404   5.18537217 63.5629586  93.42415435 70.52041121\n",
      " 86.95888024 10.34293465  3.1539923  70.73913648]\n"
     ]
    }
   ],
   "source": [
    "# Aplicando Ridge (L2)\n",
    "ridge = Ridge(alpha=0.1)\n",
    "ridge.fit(X_train, y_train)\n",
    "print(\"Ridge (L2) Coefficients:\", ridge.coef_)\n"
   ]
  },
  {
   "cell_type": "code",
   "execution_count": 4,
   "metadata": {},
   "outputs": [
    {
     "name": "stdout",
     "output_type": "stream",
     "text": [
      "Elastic Net Coefficients: [16.29797205 51.70434544  5.10073778 60.62389016 87.54708269 66.91242804\n",
      " 83.34444159  7.52889499  3.16391282 65.44195321]\n"
     ]
    }
   ],
   "source": [
    "# Aplicando Elastic Net (combinação de L1 e L2)\n",
    "elastic_net = ElasticNet(alpha=0.1, l1_ratio=0.5)\n",
    "elastic_net.fit(X_train, y_train)\n",
    "print(\"Elastic Net Coefficients:\", elastic_net.coef_)"
   ]
  },
  {
   "cell_type": "code",
   "execution_count": null,
   "metadata": {},
   "outputs": [],
   "source": []
  },
  {
   "cell_type": "code",
   "execution_count": 6,
   "metadata": {},
   "outputs": [
    {
     "name": "stdout",
     "output_type": "stream",
     "text": [
      "Coeficientes do Elastic Net:\n",
      "X1    4.433369\n",
      "X2   -2.233499\n",
      "X3    0.135345\n",
      "X4    0.006590\n",
      "X5   -0.000000\n",
      "dtype: float64\n"
     ]
    }
   ],
   "source": [
    "import numpy as np\n",
    "import pandas as pd\n",
    "from sklearn.linear_model import ElasticNet\n",
    "from sklearn.model_selection import train_test_split\n",
    "\n",
    "# 1. Gerando os dados sintéticos\n",
    "np.random.seed(42)\n",
    "\n",
    "n_samples = 1000\n",
    "\n",
    "# Features com impacto no target\n",
    "X1 = np.random.normal(0, 1, n_samples)\n",
    "X2 = np.random.normal(0, 1, n_samples)\n",
    "\n",
    "# Feature como combinação linear de X1 e X2\n",
    "X3 = 2 * X1 + 3 * X2 + np.random.normal(0, 0.1, n_samples)\n",
    "\n",
    "# Features que não impactam o target (ruído)\n",
    "X4 = np.random.normal(0, 1, n_samples)\n",
    "X5 = np.random.normal(0, 1, n_samples)\n",
    "\n",
    "# Target (y) é uma combinação linear de X1 e X2\n",
    "y = 5 * X1 - 2 * X2 + np.random.normal(0, 1, n_samples)\n",
    "\n",
    "# Criando um DataFrame para visualizar os dados\n",
    "df = pd.DataFrame({\n",
    "    'X1': X1,\n",
    "    'X2': X2,\n",
    "    'X3': X3,\n",
    "    'X4': X4,\n",
    "    'X5': X5,\n",
    "    'y': y\n",
    "})\n",
    "\n",
    "# 2. Dividindo os dados em treino e teste\n",
    "X = df[['X1', 'X2', 'X3', 'X4', 'X5']]\n",
    "y = df['y']\n",
    "\n",
    "X_train, X_test, y_train, y_test = train_test_split(X, y, test_size=0.3, random_state=42)\n",
    "\n",
    "# 3. Aplicando o Elastic Net\n",
    "elastic_net = ElasticNet(alpha=0.1, l1_ratio=0.5, random_state=42)\n",
    "elastic_net.fit(X_train, y_train)\n",
    "\n",
    "# 4. Mostrando os coeficientes aprendidos pelo Elastic Net\n",
    "coeficientes = pd.Series(elastic_net.coef_, index=X.columns)\n",
    "print(\"Coeficientes do Elastic Net:\")\n",
    "print(coeficientes)\n"
   ]
  },
  {
   "cell_type": "code",
   "execution_count": 7,
   "metadata": {},
   "outputs": [
    {
     "name": "stdout",
     "output_type": "stream",
     "text": [
      "Coeficientes do Lasso:\n",
      "X1    4.908868\n",
      "X2   -1.840521\n",
      "X3   -0.013609\n",
      "X4    0.000000\n",
      "X5   -0.000000\n",
      "dtype: float64\n"
     ]
    }
   ],
   "source": [
    "import numpy as np\n",
    "import pandas as pd\n",
    "from sklearn.linear_model import Lasso\n",
    "from sklearn.model_selection import train_test_split\n",
    "\n",
    "# 1. Gerando os dados sintéticos\n",
    "np.random.seed(42)\n",
    "\n",
    "n_samples = 1000\n",
    "\n",
    "# Features com impacto no target\n",
    "X1 = np.random.normal(0, 1, n_samples)\n",
    "X2 = np.random.normal(0, 1, n_samples)\n",
    "\n",
    "# Feature como combinação linear de X1 e X2\n",
    "X3 = 2 * X1 + 3 * X2 + np.random.normal(0, 0.1, n_samples)\n",
    "\n",
    "# Features que não impactam o target (ruído)\n",
    "X4 = np.random.normal(0, 1, n_samples)\n",
    "X5 = np.random.normal(0, 1, n_samples)\n",
    "\n",
    "# Target (y) é uma combinação linear de X1 e X2\n",
    "y = 5 * X1 - 2 * X2 + np.random.normal(0, 1, n_samples)\n",
    "\n",
    "# Criando um DataFrame para visualizar os dados\n",
    "df = pd.DataFrame({\n",
    "    'X1': X1,\n",
    "    'X2': X2,\n",
    "    'X3': X3,\n",
    "    'X4': X4,\n",
    "    'X5': X5,\n",
    "    'y': y\n",
    "})\n",
    "\n",
    "# 2. Dividindo os dados em treino e teste\n",
    "X = df[['X1', 'X2', 'X3', 'X4', 'X5']]\n",
    "y = df['y']\n",
    "\n",
    "X_train, X_test, y_train, y_test = train_test_split(X, y, test_size=0.3, random_state=42)\n",
    "\n",
    "# 3. Aplicando o Lasso (L1 Regularization)\n",
    "lasso = Lasso(alpha=0.1, random_state=42)\n",
    "lasso.fit(X_train, y_train)\n",
    "\n",
    "# 4. Mostrando os coeficientes aprendidos pelo Lasso\n",
    "coeficientes = pd.Series(lasso.coef_, index=X.columns)\n",
    "print(\"Coeficientes do Lasso:\")\n",
    "print(coeficientes)\n"
   ]
  },
  {
   "cell_type": "code",
   "execution_count": null,
   "metadata": {},
   "outputs": [],
   "source": []
  }
 ],
 "metadata": {
  "kernelspec": {
   "display_name": "Python 3.10.8 ('.venv': pipenv)",
   "language": "python",
   "name": "python3"
  },
  "language_info": {
   "codemirror_mode": {
    "name": "ipython",
    "version": 3
   },
   "file_extension": ".py",
   "mimetype": "text/x-python",
   "name": "python",
   "nbconvert_exporter": "python",
   "pygments_lexer": "ipython3",
   "version": "3.12.4"
  },
  "orig_nbformat": 4,
  "vscode": {
   "interpreter": {
    "hash": "7ff2d19c52ea409f04feab1e36bcf393b0f7ffc89d1b03de959cea511ee5a71e"
   }
  }
 },
 "nbformat": 4,
 "nbformat_minor": 2
}
