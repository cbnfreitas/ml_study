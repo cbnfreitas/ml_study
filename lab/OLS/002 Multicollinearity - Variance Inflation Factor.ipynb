{
 "cells": [
  {
   "cell_type": "markdown",
   "metadata": {},
   "source": [
    "### What is Multicollinearity?\n",
    "\n",
    "Multicollinearity occurs when two or more independent variables (predictors) in a regression model are highly correlated with each other. This means that one predictor can be linearly predicted from the others with a high degree of accuracy. Multicollinearity can cause several issues in regression analysis, particularly in interpreting the coefficients.\n",
    "\n",
    "### Problems Caused by High Multicollinearity:\n",
    "- Unstable Coefficients\n",
    "- Inflated Standard Errors\n",
    "- Difficulty in Determining the Effect of Each Predictor\n",
    "- Misleading Interpretation"
   ]
  },
  {
   "cell_type": "markdown",
   "metadata": {},
   "source": [
    "### How VIF Works:\n",
    "\n",
    "- VIF quantifies how much the variance of a regression coefficient is inflated due to multicollinearity.\n",
    "- The formula for VIF is:\n",
    "\n",
    "  $$\n",
    "  \\text{VIF}(X_i) = \\frac{1}{1 - R^2_i}\n",
    "  $$\n",
    "\n",
    "  where:\n",
    "  - $\\text{VIF}(X_i)$ is the Variance Inflation Factor for predictor $X_i$.\n",
    "  - $R^2_i$ is the R-squared value obtained when $X_i$ is regressed on all other predictors.\n",
    "\n",
    "- A VIF value of 1 indicates no multicollinearity.\n",
    "- A VIF value between 1 and 5 suggests moderate multicollinearity.\n",
    "- A VIF value greater than 5 indicates high multicollinearity, and a value greater than 10 is often considered very problematic.\n"
   ]
  },
  {
   "cell_type": "code",
   "execution_count": 5,
   "metadata": {},
   "outputs": [
    {
     "name": "stdout",
     "output_type": "stream",
     "text": [
      "     feature         VIF\n",
      "0      const    1.030504\n",
      "1  feature_1  106.201414\n",
      "2  feature_2    1.020843\n",
      "3  feature_3   40.291827\n",
      "4  feature_4  170.058278\n"
     ]
    }
   ],
   "source": [
    "import numpy as np\n",
    "import pandas as pd\n",
    "import statsmodels.api as sm\n",
    "from statsmodels.stats.outliers_influence import variance_inflation_factor\n",
    "import matplotlib.pyplot as plt\n",
    "\n",
    "# Set a random seed for reproducibility\n",
    "np.random.seed(42)\n",
    "\n",
    "# Step 1: Generate random features\n",
    "n = 100  # Number of samples\n",
    "feature_1 = np.random.normal(0, 1, n)\n",
    "feature_2 = np.random.normal(0, 1, n)\n",
    "feature_3 = np.random.normal(0, 1, n)\n",
    "\n",
    "# Step 2: Create a correlated feature (feature_4)\n",
    "feature_4 = 2 * feature_1 + np.random.normal(0, 0.2, n) + feature_3  # Highly correlated with feature_1 and feature_3\n",
    "\n",
    "# Create a DataFrame\n",
    "df = pd.DataFrame({\n",
    "    'feature_1': feature_1,\n",
    "    'feature_2': feature_2,\n",
    "    'feature_3': feature_3,\n",
    "    'feature_4': feature_4  # Correlated with feature_1\n",
    "})\n",
    "\n",
    "# Step 3: Fit a linear regression model and calculate VIF\n",
    "X = sm.add_constant(df)  # Add intercept\n",
    "model = sm.OLS(np.random.normal(0, 1, n), X).fit()  # Fit a model with random target\n",
    "\n",
    "# Calculate VIF for each feature\n",
    "vif_data = pd.DataFrame()\n",
    "vif_data[\"feature\"] = X.columns\n",
    "vif_data[\"VIF\"] = [variance_inflation_factor(X.values, i) for i in range(X.shape[1])]\n",
    "\n",
    "print(vif_data)"
   ]
  },
  {
   "cell_type": "markdown",
   "metadata": {},
   "source": [
    "> So, there's a high multicollinearity between feaatures feature_4, feature_1 and feature_3"
   ]
  },
  {
   "cell_type": "code",
   "execution_count": null,
   "metadata": {},
   "outputs": [],
   "source": []
  }
 ],
 "metadata": {
  "kernelspec": {
   "display_name": "Python 3.10.8 ('.venv': pipenv)",
   "language": "python",
   "name": "python3"
  },
  "language_info": {
   "codemirror_mode": {
    "name": "ipython",
    "version": 3
   },
   "file_extension": ".py",
   "mimetype": "text/x-python",
   "name": "python",
   "nbconvert_exporter": "python",
   "pygments_lexer": "ipython3",
   "version": "3.12.4"
  },
  "orig_nbformat": 4,
  "vscode": {
   "interpreter": {
    "hash": "7ff2d19c52ea409f04feab1e36bcf393b0f7ffc89d1b03de959cea511ee5a71e"
   }
  }
 },
 "nbformat": 4,
 "nbformat_minor": 2
}
