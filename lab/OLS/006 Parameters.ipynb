{
 "cells": [
  {
   "cell_type": "markdown",
   "metadata": {},
   "source": [
    "# Significance of the parameters - F and t\n"
   ]
  },
  {
   "cell_type": "code",
   "execution_count": 1,
   "metadata": {},
   "outputs": [
    {
     "name": "stdout",
     "output_type": "stream",
     "text": [
      "                            OLS Regression Results                            \n",
      "==============================================================================\n",
      "Dep. Variable:                      y   R-squared:                       0.980\n",
      "Model:                            OLS   Adj. R-squared:                  0.980\n",
      "Method:                 Least Squares   F-statistic:                     4901.\n",
      "Date:                Tue, 27 Aug 2024   Prob (F-statistic):           1.71e-85\n",
      "Time:                        08:19:05   Log-Likelihood:                -435.28\n",
      "No. Observations:                 100   AIC:                             874.6\n",
      "Df Residuals:                      98   BIC:                             879.8\n",
      "Df Model:                           1                                         \n",
      "Covariance Type:            nonrobust                                         \n",
      "==============================================================================\n",
      "                 coef    std err          t      P>|t|      [0.025      0.975]\n",
      "------------------------------------------------------------------------------\n",
      "const        208.7440      6.376     32.738      0.000     196.091     221.397\n",
      "x1             2.9427      0.042     70.008      0.000       2.859       3.026\n",
      "==============================================================================\n",
      "Omnibus:                        1.950   Durbin-Watson:                   2.194\n",
      "Prob(Omnibus):                  0.377   Jarque-Bera (JB):                1.909\n",
      "Skew:                           0.327   Prob(JB):                        0.385\n",
      "Kurtosis:                       2.829   Cond. No.                         509.\n",
      "==============================================================================\n",
      "\n",
      "Notes:\n",
      "[1] Standard Errors assume that the covariance matrix of the errors is correctly specified.\n"
     ]
    }
   ],
   "source": [
    "import numpy as np\n",
    "import pandas as pd\n",
    "import statsmodels.api as sm\n",
    "\n",
    "# Dados simulados\n",
    "np.random.seed(42)\n",
    "tamanho = np.random.normal(150, 50, 100)  # Tamanho das casas\n",
    "erro = np.random.normal(0, 20, 100)  # Erro aleatório\n",
    "preco = 200 + 3 * tamanho + erro  # Preço da casa\n",
    "\n",
    "# Regressão OLS\n",
    "X = sm.add_constant(tamanho)  # Adiciona o intercepto\n",
    "modelo = sm.OLS(preco, X).fit()\n",
    "\n",
    "# Resultados do modelo\n",
    "print(modelo.summary())\n"
   ]
  },
  {
   "cell_type": "markdown",
   "metadata": {},
   "source": [
    "- F test for the model: at least one of the betas is statistically significant. (I want small p-value)\n",
    "- T test for the parameters: I want small (P>|t| ) to be small\n",
    "- R^2_adjut: compare different models possibily with different sample sizes and parameters"
   ]
  },
  {
   "cell_type": "markdown",
   "metadata": {},
   "source": []
  }
 ],
 "metadata": {
  "kernelspec": {
   "display_name": "Python 3.10.8 ('.venv': pipenv)",
   "language": "python",
   "name": "python3"
  },
  "language_info": {
   "codemirror_mode": {
    "name": "ipython",
    "version": 3
   },
   "file_extension": ".py",
   "mimetype": "text/x-python",
   "name": "python",
   "nbconvert_exporter": "python",
   "pygments_lexer": "ipython3",
   "version": "3.12.4"
  },
  "orig_nbformat": 4,
  "vscode": {
   "interpreter": {
    "hash": "7ff2d19c52ea409f04feab1e36bcf393b0f7ffc89d1b03de959cea511ee5a71e"
   }
  }
 },
 "nbformat": 4,
 "nbformat_minor": 2
}
