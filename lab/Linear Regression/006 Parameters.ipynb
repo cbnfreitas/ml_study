{
 "cells": [
  {
   "cell_type": "markdown",
   "metadata": {},
   "source": [
    "# Normality of Errors\n",
    "\n",
    "## Explanation:\n",
    "\n",
    "Definition: The residuals of the model should follow an approximately normal distribution. This assumption is particularly important for the validity of statistical tests (like t-tests for coefficients) and for making accurate confidence intervals.\n",
    "\n",
    "Why It Matters: If the residuals are not normally distributed, it could mean that the model is missing key variables or that the relationship between the independent and dependent variables is not properly captured by the model. This can lead to biased estimates and incorrect inferences.\n",
    "\n",
    "\n",
    "## How to Check:\n",
    " \n",
    "- Q-Q Plot (Quantile-Quantile Plot): A Q-Q plot compares the quantiles of the residuals to the quantiles of a normal distribution. If the points roughly follow a straight diagonal line, the residuals are approximately normally distributed.\n",
    "\n",
    "- Shapiro-Wilk Test: This is a formal statistical test for normality. A significant p-value suggests that the residuals are not normally distributed.\n",
    "\n",
    "- Histogram of Residuals: You can also simply plot a histogram of the residuals to visually inspect whether they follow a bell-shaped curve.\n",
    "\n",
    "- Breusch-Pagan Test: This statistical test can also be used to formally detect heteroscedasticity.\n",
    "\n",
    "## Example:\n",
    "\n",
    "In a model predicting student test scores, if the residuals are heavily skewed or show kurtosis (peaks or tails much higher or lower than normal), it may indicate that the model is not capturing some important aspect of the data, like a non-linear relationship or the presence of outliers.\n"
   ]
  },
  {
   "cell_type": "code",
   "execution_count": 1,
   "metadata": {},
   "outputs": [
    {
     "name": "stdout",
     "output_type": "stream",
     "text": [
      "                            OLS Regression Results                            \n",
      "==============================================================================\n",
      "Dep. Variable:                      y   R-squared:                       0.980\n",
      "Model:                            OLS   Adj. R-squared:                  0.980\n",
      "Method:                 Least Squares   F-statistic:                     4901.\n",
      "Date:                Tue, 27 Aug 2024   Prob (F-statistic):           1.71e-85\n",
      "Time:                        08:19:05   Log-Likelihood:                -435.28\n",
      "No. Observations:                 100   AIC:                             874.6\n",
      "Df Residuals:                      98   BIC:                             879.8\n",
      "Df Model:                           1                                         \n",
      "Covariance Type:            nonrobust                                         \n",
      "==============================================================================\n",
      "                 coef    std err          t      P>|t|      [0.025      0.975]\n",
      "------------------------------------------------------------------------------\n",
      "const        208.7440      6.376     32.738      0.000     196.091     221.397\n",
      "x1             2.9427      0.042     70.008      0.000       2.859       3.026\n",
      "==============================================================================\n",
      "Omnibus:                        1.950   Durbin-Watson:                   2.194\n",
      "Prob(Omnibus):                  0.377   Jarque-Bera (JB):                1.909\n",
      "Skew:                           0.327   Prob(JB):                        0.385\n",
      "Kurtosis:                       2.829   Cond. No.                         509.\n",
      "==============================================================================\n",
      "\n",
      "Notes:\n",
      "[1] Standard Errors assume that the covariance matrix of the errors is correctly specified.\n"
     ]
    }
   ],
   "source": [
    "import numpy as np\n",
    "import pandas as pd\n",
    "import statsmodels.api as sm\n",
    "\n",
    "# Dados simulados\n",
    "np.random.seed(42)\n",
    "tamanho = np.random.normal(150, 50, 100)  # Tamanho das casas\n",
    "erro = np.random.normal(0, 20, 100)  # Erro aleatório\n",
    "preco = 200 + 3 * tamanho + erro  # Preço da casa\n",
    "\n",
    "# Regressão OLS\n",
    "X = sm.add_constant(tamanho)  # Adiciona o intercepto\n",
    "modelo = sm.OLS(preco, X).fit()\n",
    "\n",
    "# Resultados do modelo\n",
    "print(modelo.summary())\n"
   ]
  },
  {
   "cell_type": "markdown",
   "metadata": {},
   "source": [
    "- F test for the model: at least one of the betas is statistically significant. (I want small p-value)\n",
    "- T test for the parameters: I want small (P>|t| ) to be small\n",
    "- R^2_adjut: compare different models possibily with different sample sizes and parameters"
   ]
  }
 ],
 "metadata": {
  "kernelspec": {
   "display_name": "Python 3.10.8 ('.venv': pipenv)",
   "language": "python",
   "name": "python3"
  },
  "language_info": {
   "codemirror_mode": {
    "name": "ipython",
    "version": 3
   },
   "file_extension": ".py",
   "mimetype": "text/x-python",
   "name": "python",
   "nbconvert_exporter": "python",
   "pygments_lexer": "ipython3",
   "version": "3.12.4"
  },
  "orig_nbformat": 4,
  "vscode": {
   "interpreter": {
    "hash": "7ff2d19c52ea409f04feab1e36bcf393b0f7ffc89d1b03de959cea511ee5a71e"
   }
  }
 },
 "nbformat": 4,
 "nbformat_minor": 2
}
