{
 "cells": [
  {
   "cell_type": "markdown",
   "metadata": {},
   "source": [
    "# Homoscedasticity\n",
    "\n",
    "## Explanation:\n",
    "\n",
    "Definition: Homoscedasticity means that the variance of the residuals (errors) is constant across all levels of the independent variables. In other words, the spread or \"scatter\" of the residuals should be roughly the same regardless of the predicted values.\n",
    "\n",
    "Why It Matters: When homoscedasticity is violated (a condition known as heteroscedasticity), it suggests that the model's predictions are more or less accurate for certain ranges of the data, leading to inefficient estimates of the regression coefficients. This can also affect the validity of hypothesis tests and confidence intervals.\n",
    "\n",
    "## How to Check:\n",
    " \n",
    "- Residual Plot: The most common way to check for homoscedasticity is to plot the residuals against the fitted values (the predicted values).\n",
    "    - If the residuals are randomly scattered around the horizontal axis (zero line) with no discernible pattern, homoscedasticity is likely satisfied.\n",
    "    - Funnel Shape: If the residuals fan out or funnel (either widening or narrowing) as the fitted values increase, this indicates heteroscedasticity.\n",
    "\n",
    "- Breusch-Pagan Test: This statistical test can also be used to formally detect heteroscedasticity.\n",
    "\n",
    "## Example:\n",
    "\n",
    "In a model predicting house prices based on square footage, suppose that the variance of the residuals increases as the square footage increases (perhaps because larger homes have more variability in features). This would result in a funnel shape in the residual plot, indicating heteroscedasticity.\n"
   ]
  },
  {
   "cell_type": "code",
   "execution_count": null,
   "metadata": {},
   "outputs": [],
   "source": [
    "import numpy as np\n",
    "import pandas as pd\n",
    "import statsmodels.api as sm\n",
    "import matplotlib.pyplot as plt\n",
    "from statsmodels.stats.diagnostic import het_breuschpagan\n",
    "\n",
    "# Set a random seed for reproducibility\n",
    "np.random.seed(42)\n",
    "\n",
    "# Step 1: Generate synthetic data\n",
    "n = 100\n",
    "x = np.linspace(0, 10, n)  # Independent variable\n",
    "\n",
    "# Create heteroscedasticity: residuals increase with x\n",
    "errors = np.random.normal(0, 1, n) * x  # Errors that increase with x\n",
    "\n",
    "# Dependent variable with a linear relationship plus heteroscedastic errors\n",
    "y = 2 * x + errors\n",
    "\n",
    "# Step 2: Fit a linear regression model\n",
    "X = sm.add_constant(x)  # Add intercept\n",
    "model = sm.OLS(y, X).fit()\n",
    "\n",
    "# Step 3: Calculate residuals and fitted values\n",
    "fitted_values = model.fittedvalues\n",
    "residuals = model.resid\n",
    "\n",
    "# Step 4: Plot residuals against fitted values to check for homoscedasticity\n",
    "plt.figure(figsize=(10, 6))\n",
    "plt.scatter(fitted_values, residuals)\n",
    "plt.axhline(0, color='red', linestyle='--')\n",
    "plt.title('Residual Plot: Checking for Homoscedasticity')\n",
    "plt.xlabel('Fitted Values')\n",
    "plt.ylabel('Residuals')\n",
    "plt.show()\n",
    "\n",
    "# Step 5: Perform the Breusch-Pagan test\n",
    "bp_test = het_breuschpagan(residuals, X)\n",
    "labels = ['Lagrange multiplier statistic', 'p-value', 'f-value', 'f p-value']\n",
    "print(dict(zip(labels, bp_test)))\n"
   ]
  }
 ],
 "metadata": {
  "kernelspec": {
   "display_name": "Python 3.10.8 ('.venv': pipenv)",
   "language": "python",
   "name": "python3"
  },
  "language_info": {
   "codemirror_mode": {
    "name": "ipython",
    "version": 3
   },
   "file_extension": ".py",
   "mimetype": "text/x-python",
   "name": "python",
   "nbconvert_exporter": "python",
   "pygments_lexer": "ipython3",
   "version": "3.12.4"
  },
  "orig_nbformat": 4,
  "vscode": {
   "interpreter": {
    "hash": "7ff2d19c52ea409f04feab1e36bcf393b0f7ffc89d1b03de959cea511ee5a71e"
   }
  }
 },
 "nbformat": 4,
 "nbformat_minor": 2
}
